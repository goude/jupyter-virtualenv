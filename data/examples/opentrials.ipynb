{
 "cells": [
  {
   "cell_type": "markdown",
   "metadata": {},
   "source": [
    "# Working with OpenTrials\n",
    "\n",
    "This notebook is a very simple introduction to the [OpenTrials API](https://api.opentrials.net/). \n",
    "\n",
    "You can read the [docs for the API here](https://api.opentrials.net/v1/docs/).\n",
    "\n",
    "The API powers the main UI for OpenTrials, the [OpenTrials Explorer](https://explorer.opentrials.net/), and is freely available for use in 3rd party applications."
   ]
  },
  {
   "cell_type": "markdown",
   "metadata": {},
   "source": [
    "## Configuring an API client\n",
    "\n",
    "The OpenTrials API is compliant with the [Open API spec](https://openapis.org). Formerly known as \"Swagger\", Open API is a standard and tolling for writing and working with APIs. A nice benefit of working to a standard like this is the ability to use a generic library that instrospects the API definition, and dynamically generates an API client. \n",
    "\n",
    "That's nice.\n",
    "\n",
    "Here, we are using Python. But there are clients available in many languages. See [here](http://swagger.io/open-source-integrations/) to check support in your favorite programming language. It should not be too big a jump to go from these examples in Python to using a Swagger client in another programming language."
   ]
  },
  {
   "cell_type": "code",
   "execution_count": 1,
   "metadata": {
    "collapsed": false
   },
   "outputs": [
    {
     "data": {
      "text/plain": [
       "['conditions',\n",
       " 'interventions',\n",
       " 'organisations',\n",
       " 'persons',\n",
       " 'publications',\n",
       " 'search',\n",
       " 'sources',\n",
       " 'trials']"
      ]
     },
     "execution_count": 1,
     "metadata": {},
     "output_type": "execute_result"
    }
   ],
   "source": [
    "# just for presentation in notebooks\n",
    "from pprint import pprint as print\n",
    "\n",
    "# our actual code imports\n",
    "from bravado.client import SwaggerClient\n",
    "\n",
    "\n",
    "# The spec that will be used to generate the methods of the API client.\n",
    "OPENTRIALS_API_SPEC = 'http://api.opentrials.net/v1/swagger.yaml'\n",
    "\n",
    "# we want our data returned as an array of dicts, and not as class instances.\n",
    "config = {'use_models': False}\n",
    "\n",
    "# instantiate our API client\n",
    "client = SwaggerClient.from_url(OPENTRIALS_API_SPEC, config=config)\n",
    "\n",
    "# inspect the client properties\n",
    "dir(client)"
   ]
  },
  {
   "cell_type": "markdown",
   "metadata": {},
   "source": [
    "All we've done above is create an instance of a Swagger client, and, we can see, if comparing to the [OpenTrials API](https://api.opentrials.net/v1/docs/) docs, we have a property on the client for each endpoint of our API.\n",
    "\n",
    "To learn more about how this Swagger/Open API stuff all works, [read the spec](http://swagger.io/specification/). Otherwise, just follow along and let's explore the OpenTrials data."
   ]
  },
  {
   "cell_type": "markdown",
   "metadata": {
    "collapsed": true
   },
   "source": [
    "## Working with data\n",
    "\n",
    "The main endpoint for interacting with data on OpenTrials is the search endpoint. This is an endpoint that exposes all the OpenTrials trial data, indexed in [Elasticsearch](https://www.elastic.co/guide/en/elasticsearch/reference/2.3/query-dsl-query-string-query.html#query-string-syntax). \n",
    "\n",
    "If you know Elasticsearch, you are probably crying with joy now at the power you have at your fingertips to explore the OpenTrials database. \n",
    "\n",
    "If you don't know Elasticsearch, then don't worry - we'll walk through some simple examples here, and you'll be able to consult the [Elasticsearch Query String docs](https://www.elastic.co/guide/en/elasticsearch/reference/2.3/query-dsl-query-string-query.html#query-string-syntax) to build progressively more complex queries.\n",
    "\n",
    "Enough words, let's get some data. The `searchTrials` method is the key to out Elasticsearch kingdom."
   ]
  },
  {
   "cell_type": "markdown",
   "metadata": {},
   "source": [
    "### Construct a query\n",
    "\n",
    "First, we'll query for a condition that surely someone has conducted some clinical trials on."
   ]
  },
  {
   "cell_type": "code",
   "execution_count": 3,
   "metadata": {
    "collapsed": true
   },
   "outputs": [],
   "source": [
    "# Passing in a very simple query, we will paginate results by 10\n",
    "# The query response is then saved in the `result` variable\n",
    "result = client.trials.searchTrials(q='depression', per_page=10).result()"
   ]
  },
  {
   "cell_type": "markdown",
   "metadata": {},
   "source": [
    "Now we have some data in `results`, let's take a look."
   ]
  },
  {
   "cell_type": "markdown",
   "metadata": {},
   "source": [
    "### Basic metadata\n",
    "\n",
    "How many trials related to depression does OpenTrials know about? \n",
    "\n",
    "Handily, a result from the search endpoint has a property called `total_count` to answer that!"
   ]
  },
  {
   "cell_type": "code",
   "execution_count": 69,
   "metadata": {
    "collapsed": false
   },
   "outputs": [
    {
     "data": {
      "text/plain": [
       "'OpenTrials knows about 7596 trials related to depression.'"
      ]
     },
     "execution_count": 69,
     "metadata": {},
     "output_type": "execute_result"
    }
   ],
   "source": [
    "'OpenTrials knows about {} trials related to depression.'.format(result['total_count'])"
   ]
  },
  {
   "cell_type": "markdown",
   "metadata": {},
   "source": [
    "### The trials, where are the matching trials?\n",
    "\n",
    "But where is the data? the result has a property called `items`, which is an array of trials. \n",
    "\n",
    "Let's see the name of each of the first ten trials related to depression."
   ]
  },
  {
   "cell_type": "code",
   "execution_count": 20,
   "metadata": {
    "collapsed": false
   },
   "outputs": [
    {
     "data": {
      "text/plain": [
       "['Optimising the clinical application of capnography for monitoring ventilation of sedated patients in the cardiac catheterisation laboratory',\n",
       " 'Ventilation status of sedated patients in the cardiac catheterisation laboratory',\n",
       " 'CANreduce 2.0 - comparing two differently optimized versions of a web-based self-help program to reduce cannabis use with each other and a waiting list',\n",
       " 'A pilot evaluation on the efficacy of a universal school-based mindfulness intervention to enhance resilience in children',\n",
       " 'The Clinical Research on the Relationship Between Depression and Gut Microbiota in TBI Patients',\n",
       " 'I2PETPG - Imidazoline2 Binding Sites in a Group of Participants Diagnosed With AD',\n",
       " 'A Study of Chinese Medicine Treating Depression',\n",
       " 'Evaluation of the Impact of the Level of Mindfulness on the Management of Patients With Recurrent Depressive Disorders by the Mindfulness Based Cognitive Therapy ( MBCT ): an Exploratory Study',\n",
       " 'Integrated Mental Health Care and Vocational Rehabilitation to Individuals on Sick Leave Due to Anxiety and Depression',\n",
       " 'Internet-based self-help for adolescents and young adults diagnosed with cancer during adolescence']"
      ]
     },
     "execution_count": 20,
     "metadata": {},
     "output_type": "execute_result"
    }
   ],
   "source": [
    "[obj['public_title'] for obj in result['items']]"
   ]
  },
  {
   "cell_type": "markdown",
   "metadata": {},
   "source": [
    "### Inspecting a trial\n",
    "\n",
    "What type of data does OpenTrials actually expose on each trial? \n",
    "\n",
    "Let's look at the properties of one of them to see."
   ]
  },
  {
   "cell_type": "code",
   "execution_count": 22,
   "metadata": {
    "collapsed": false
   },
   "outputs": [
    {
     "data": {
      "text/plain": [
       "['records',\n",
       " 'url',\n",
       " 'id',\n",
       " 'interventions',\n",
       " 'publications',\n",
       " 'target_sample_size',\n",
       " 'risks_of_bias',\n",
       " 'locations',\n",
       " 'status',\n",
       " 'has_published_results',\n",
       " 'gender',\n",
       " 'documents',\n",
       " 'registration_date',\n",
       " 'public_title',\n",
       " 'identifiers',\n",
       " 'brief_summary',\n",
       " 'recruitment_status',\n",
       " 'discrepancies',\n",
       " 'sources',\n",
       " 'source_id',\n",
       " 'conditions',\n",
       " 'persons',\n",
       " 'organisations']"
      ]
     },
     "execution_count": 22,
     "metadata": {},
     "output_type": "execute_result"
    }
   ],
   "source": [
    "sample = result['items'][0]\n",
    "list(sample.keys())"
   ]
  },
  {
   "cell_type": "markdown",
   "metadata": {},
   "source": [
    "Ok!\n",
    "\n",
    "There is a lot to explore here. Let's dive further into the *trial object* that is returned by our search queries for trials. This will help us understand what we can expect to see in the OpenTrials database, and thereby, the type of questions we may expect to answer with this data, in further analysis."
   ]
  },
  {
   "cell_type": "code",
   "execution_count": 14,
   "metadata": {
    "collapsed": false
   },
   "outputs": [
    {
     "data": {
      "text/plain": [
       "'3a9dec72-6ba7-11e6-8215-0242ac12000b'"
      ]
     },
     "execution_count": 14,
     "metadata": {},
     "output_type": "execute_result"
    }
   ],
   "source": [
    "# the unique identifer in the OpenTrials database\n",
    "sample['id']"
   ]
  },
  {
   "cell_type": "code",
   "execution_count": 24,
   "metadata": {
    "collapsed": false
   },
   "outputs": [
    {
     "data": {
      "text/plain": [
       "{'actrn': 'ACTRN12616001132437'}"
      ]
     },
     "execution_count": 24,
     "metadata": {},
     "output_type": "execute_result"
    }
   ],
   "source": [
    "# the globally known identifiers\n",
    "sample['identifiers']"
   ]
  },
  {
   "cell_type": "code",
   "execution_count": 32,
   "metadata": {
    "collapsed": false
   },
   "outputs": [
    {
     "data": {
      "text/plain": [
       "'No results'"
      ]
     },
     "execution_count": 32,
     "metadata": {},
     "output_type": "execute_result"
    }
   ],
   "source": [
    "# Does the trial have published results?\n",
    "sample['has_published_results'] or 'No results'"
   ]
  },
  {
   "cell_type": "code",
   "execution_count": 34,
   "metadata": {
    "collapsed": false
   },
   "outputs": [
    {
     "data": {
      "text/plain": [
       "'2016-08-19T00:00:00+00:00'"
      ]
     },
     "execution_count": 34,
     "metadata": {},
     "output_type": "execute_result"
    }
   ],
   "source": [
    "# when was the trial first registered?\n",
    "sample['registration_date'].isoformat()"
   ]
  },
  {
   "cell_type": "code",
   "execution_count": 39,
   "metadata": {
    "collapsed": false
   },
   "outputs": [
    {
     "data": {
      "text/plain": [
       "['sedation-induced respiratory depression']"
      ]
     },
     "execution_count": 39,
     "metadata": {},
     "output_type": "execute_result"
    }
   ],
   "source": [
    "# exactly which conditions does the trial test\n",
    "[condition['name'] for condition in sample['conditions']]"
   ]
  },
  {
   "cell_type": "code",
   "execution_count": 40,
   "metadata": {
    "collapsed": false
   },
   "outputs": [
    {
     "data": {
      "text/plain": [
       "[]"
      ]
     },
     "execution_count": 40,
     "metadata": {},
     "output_type": "execute_result"
    }
   ],
   "source": [
    "# and, which interventions are tested against this condition?\n",
    "[intervention['name'] for intervention in sample['interventions']]"
   ]
  },
  {
   "cell_type": "code",
   "execution_count": 70,
   "metadata": {
    "collapsed": false
   },
   "outputs": [
    {
     "data": {
      "text/plain": [
       "'Respiratory depression is more likely to be detected during sedation when capnography is used. However, sedation-induced respiratory depression is commonly transient and does not always cause patient harm. Randomised controlled trials have produced conflicting results regarding whether capnography improves patient safety when used during sedation and there is considerable variation in the utilisation of capnography monitoring in clinical practice. This project seeks to optimise the implementation of this technology into clinical practice.  AIMS 1.\\tTo identify subgroups of patients based on their physiological responses to sedation. 2.\\tTo characterise the identified subgroups by determining whether they are associated with particular demographic and clinical characteristics. 3.\\tTo examine variation in clinical interventions applied to support respiratory function between subgroups.  4.\\tTo determine if there are associations between the subgroups and intra-procedural ventilation status as well as post-procedural outcomes.'"
      ]
     },
     "execution_count": 70,
     "metadata": {},
     "output_type": "execute_result"
    }
   ],
   "source": [
    "# is there any summary description that tells us what this trial is about?\n",
    "sample['brief_summary']"
   ]
  },
  {
   "cell_type": "code",
   "execution_count": 45,
   "metadata": {
    "collapsed": false
   },
   "outputs": [
    {
     "data": {
      "text/plain": [
       "['actrn']"
      ]
     },
     "execution_count": 45,
     "metadata": {},
     "output_type": "execute_result"
    }
   ],
   "source": [
    "# what data sources have contributed to the information on this trial?\n",
    "list(sample['sources'].keys())"
   ]
  },
  {
   "cell_type": "code",
   "execution_count": 50,
   "metadata": {
    "collapsed": false
   },
   "outputs": [
    {
     "data": {
      "text/plain": [
       "[('https://www.anzctr.org.au/Trial/Registration/TrialReview.aspx?id=371304&isReview=true',\n",
       "  'http://api.opentrials.net/v1/trials/3a9dec72-6ba7-11e6-8215-0242ac12000b/records/19b47d01-84f6-41c9-9133-2addff32d5bd')]"
      ]
     },
     "execution_count": 50,
     "metadata": {},
     "output_type": "execute_result"
    }
   ],
   "source": [
    "# what records from these sources has OpenTrials collected?\n",
    "list([(record['source_url'], record['url'])for record in sample['records']])"
   ]
  },
  {
   "cell_type": "markdown",
   "metadata": {},
   "source": [
    "And, you get the picture. It can be quite interesting to inspect the top-level data of a given trial like this."
   ]
  },
  {
   "cell_type": "markdown",
   "metadata": {},
   "source": [
    "## Related entities\n",
    "\n",
    "The major API endpoint for exploration is the search endpoint. But as you saw at the start of the notebook, we have several other endpoints available."
   ]
  },
  {
   "cell_type": "code",
   "execution_count": 51,
   "metadata": {
    "collapsed": false
   },
   "outputs": [
    {
     "data": {
      "text/plain": [
       "['conditions',\n",
       " 'interventions',\n",
       " 'organisations',\n",
       " 'persons',\n",
       " 'publications',\n",
       " 'search',\n",
       " 'sources',\n",
       " 'trials']"
      ]
     },
     "execution_count": 51,
     "metadata": {},
     "output_type": "execute_result"
    }
   ],
   "source": [
    "dir(client)"
   ]
  },
  {
   "cell_type": "markdown",
   "metadata": {},
   "source": [
    "Each of these additional endpoints is a RESTful endpoint for entities related to trials. As we've collected information on trials, we've also extracted out entities and started cleaning and normalising these. We think this will turn into a really useful collection of datasets on clinical trials, giving direct query access to the organisations and people, for example, behind clinical trials.\n",
    "\n",
    "Let's take another sample and investigate some of these related entities."
   ]
  },
  {
   "cell_type": "code",
   "execution_count": 19,
   "metadata": {
    "collapsed": false
   },
   "outputs": [
    {
     "data": {
      "text/plain": [
       "{'brief_summary': 'This is a Phase 1/2, open-label, multicenter study.',\n",
       " 'conditions': [{'id': '574bbf1b-5a6a-47df-bcbe-aa389f88dd82',\n",
       "   'name': \"Non-Hodgkin's Lymphoma\",\n",
       "   'url': 'http://api.opentrials.net/v1/conditions/574bbf1b-5a6a-47df-bcbe-aa389f88dd82'}],\n",
       " 'discrepancies': {'recruitment_status': [{'record_id': '14fb8631-26fc-49e7-9bca-f54609329992',\n",
       "    'source_name': 'WHO ICTRP',\n",
       "    'value': 'not_recruiting'},\n",
       "   {'record_id': '3ce116a4-214e-4534-9dc6-b488548feb2c',\n",
       "    'source_name': 'ClinicalTrials.gov',\n",
       "    'value': 'recruiting'}]},\n",
       " 'documents': [],\n",
       " 'gender': 'both',\n",
       " 'has_published_results': False,\n",
       " 'id': '60a5ba18-594e-4e13-87b8-65c035c8d0de',\n",
       " 'identifiers': {'nct': 'NCT02856685'},\n",
       " 'interventions': [{'id': 'e456bc59-a706-40e4-bcaa-6b3003ec5cec',\n",
       "   'name': 'Mitoxantrone Hydrochloride Liposome',\n",
       "   'type': None,\n",
       "   'url': 'http://api.opentrials.net/v1/interventions/e456bc59-a706-40e4-bcaa-6b3003ec5cec'}],\n",
       " 'locations': [{'id': '4e9484c3-2bc9-4813-a3e7-6710ae2a3324',\n",
       "   'name': 'United States',\n",
       "   'role': 'recruitment_countries',\n",
       "   'type': 'country'}],\n",
       " 'organisations': [],\n",
       " 'persons': [{'id': 'bc26c176-6c18-11e6-9951-0242ac120017',\n",
       "   'name': 'Nashat Y Gabrail, M.D',\n",
       "   'role': 'principal_investigator',\n",
       "   'url': 'http://api.opentrials.net/v1/persons/bc26c176-6c18-11e6-9951-0242ac120017'}],\n",
       " 'public_title': 'A Study of Mitoxantrone Hydrochloride Liposome Infusion',\n",
       " 'publications': [],\n",
       " 'records': [{'id': '14fb8631-26fc-49e7-9bca-f54609329992',\n",
       "   'source_id': 'ictrp',\n",
       "   'source_url': 'http://apps.who.int/trialsearch/Trial3.aspx?trialid=NCT02856685',\n",
       "   'updated_at': '2016-08-25T09:02:55.065Z',\n",
       "   'url': 'http://api.opentrials.net/v1/trials/60a5ba18-594e-4e13-87b8-65c035c8d0de/records/14fb8631-26fc-49e7-9bca-f54609329992'},\n",
       "  {'id': '3ce116a4-214e-4534-9dc6-b488548feb2c',\n",
       "   'source_id': 'nct',\n",
       "   'source_url': 'https://clinicaltrials.gov/ct2/show/NCT02856685',\n",
       "   'updated_at': '2016-08-26T03:37:56.588Z',\n",
       "   'url': 'http://api.opentrials.net/v1/trials/60a5ba18-594e-4e13-87b8-65c035c8d0de/records/3ce116a4-214e-4534-9dc6-b488548feb2c'}],\n",
       " 'recruitment_status': 'recruiting',\n",
       " 'registration_date': datetime.datetime(2016, 8, 1, 0, 0, tzinfo=tzutc()),\n",
       " 'risks_of_bias': [],\n",
       " 'source_id': 'nct',\n",
       " 'sources': {'ictrp': {'id': 'ictrp', 'name': 'WHO ICTRP'},\n",
       "  'nct': {'id': 'nct', 'name': 'ClinicalTrials.gov'}},\n",
       " 'status': 'ongoing',\n",
       " 'target_sample_size': 60,\n",
       " 'url': 'http://api.opentrials.net/v1/trials/60a5ba18-594e-4e13-87b8-65c035c8d0de'}"
      ]
     },
     "execution_count": 19,
     "metadata": {},
     "output_type": "execute_result"
    }
   ],
   "source": [
    "sample = result['items'][9]\n",
    "\n",
    "sample"
   ]
  },
  {
   "cell_type": "markdown",
   "metadata": {},
   "source": [
    "This sample has information on several related entities. Notably, persons, interventions and conditions. Let's look at each. As the database expands and the data is further cleaned and normalised, these entity endpoints will hold more and more contextual information.\n",
    "\n",
    "Currently, they do not hold much more than is directly available via the search API directly, so watch this space."
   ]
  },
  {
   "cell_type": "code",
   "execution_count": 25,
   "metadata": {
    "collapsed": false,
    "scrolled": true
   },
   "outputs": [
    {
     "data": {
      "text/plain": [
       "[{'id': 'e456bc59-a706-40e4-bcaa-6b3003ec5cec',\n",
       "  'name': 'Mitoxantrone Hydrochloride Liposome',\n",
       "  'type': None,\n",
       "  'url': 'http://api.opentrials.net/v1/interventions/e456bc59-a706-40e4-bcaa-6b3003ec5cec'}]"
      ]
     },
     "execution_count": 25,
     "metadata": {},
     "output_type": "execute_result"
    }
   ],
   "source": [
    "sample['interventions']"
   ]
  },
  {
   "cell_type": "code",
   "execution_count": 26,
   "metadata": {
    "collapsed": false,
    "scrolled": true
   },
   "outputs": [
    {
     "data": {
      "text/plain": [
       "{'id': 'e456bc59-a706-40e4-bcaa-6b3003ec5cec',\n",
       " 'name': 'Mitoxantrone Hydrochloride Liposome',\n",
       " 'type': None,\n",
       " 'url': 'http://api.opentrials.net/v1/interventions/e456bc59-a706-40e4-bcaa-6b3003ec5cec'}"
      ]
     },
     "execution_count": 26,
     "metadata": {},
     "output_type": "execute_result"
    }
   ],
   "source": [
    "intervention = client.interventions.getIntervention(id=sample['interventions'][0]['id']).result()\n",
    "\n",
    "intervention"
   ]
  },
  {
   "cell_type": "markdown",
   "metadata": {},
   "source": [
    "### Unique insights\n",
    "\n",
    "Let's take a look at some information that is *only* possible because OpenTrials has centralised data from a range of sources and threaded that data together. \n",
    "\n",
    "Doing so shows us the type of unique insights that are possible now, and will grow as we collect and match more data from more varied sources.\n",
    "\n",
    "The example we'll use is that of *discrepancies*. It is known that the various records of information on trials often hold discrepant data - but no one really knows how much. Discrepancies in what is publicly published about a trial is a big issue, as these public records get referenced and used - for example in academic literature - and then become a 'truth' on which new facts are based.\n",
    "\n",
    "So, just how many trials does OpenTrials think have discrepant data? Let's take a look now, but a few caveats:\n",
    "\n",
    "1. There are definitely false positives - this is a matter of tuning the way we detect discrepancies across multiple data providers, in a world where there are no standards on how to actually publish clinical trial data.\n",
    "2. OpenTrials is just at the beginning of build a huge database of information, and obviously information can change over time, as more data is added."
   ]
  },
  {
   "cell_type": "code",
   "execution_count": 4,
   "metadata": {
    "collapsed": false
   },
   "outputs": [
    {
     "data": {
      "text/plain": [
       "335025"
      ]
     },
     "execution_count": 4,
     "metadata": {},
     "output_type": "execute_result"
    }
   ],
   "source": [
    "# the total number of trials\n",
    "result = client.trials.searchTrials(per_page=10).result()\n",
    "trial_count = result['total_count']\n",
    "\n",
    "trial_count"
   ]
  },
  {
   "cell_type": "code",
   "execution_count": 5,
   "metadata": {
    "collapsed": false
   },
   "outputs": [
    {
     "data": {
      "text/plain": [
       "36720"
      ]
     },
     "execution_count": 5,
     "metadata": {},
     "output_type": "execute_result"
    }
   ],
   "source": [
    "# the total number of trials we think have discrepancies\n",
    "result = client.trials.searchTrials(q='_exists_:discrepancies', per_page=10).result()\n",
    "discrepancy_count = result['total_count']\n",
    "\n",
    "discrepancy_count"
   ]
  },
  {
   "cell_type": "markdown",
   "metadata": {},
   "source": [
    "So we can see that, currently, we think around 10% of trials have discrepancies. \n",
    "\n",
    "Even if that figure changes, let's inspect an example to see how important the discrepancies detection can be as a heuristic for exploration."
   ]
  },
  {
   "cell_type": "code",
   "execution_count": 13,
   "metadata": {
    "collapsed": false
   },
   "outputs": [
    {
     "data": {
      "text/plain": [
       "('A Investigating Safety, Tolerability, PK and PD for Multiple Doses of NNC9204-0530 in Combination With Liraglutide in Male and Female Subjects Being Overweight or With Obesity',\n",
       " 'ongoing',\n",
       " False,\n",
       " ['Placebo', 'NNC9204-0530', 'LIRAGLUTIDE'],\n",
       " {'recruitment_status': [{'record_id': 'a48ef0f3-3bc9-4f23-8f3b-bd63a5d910f4',\n",
       "    'source_name': 'ClinicalTrials.gov',\n",
       "    'value': 'recruiting'},\n",
       "   {'record_id': '5cf4bac8-93f6-4c08-9c6b-7a7b39b50423',\n",
       "    'source_name': 'WHO ICTRP',\n",
       "    'value': 'not_recruiting'}]},\n",
       " '2016-08-12T00:00:00+00:00')"
      ]
     },
     "execution_count": 13,
     "metadata": {},
     "output_type": "execute_result"
    }
   ],
   "source": [
    "sample = result['items'][0]\n",
    "\n",
    "sample['public_title'], sample['status'], sample['has_published_results'], \\\n",
    "[i['name'] for i in sample['interventions']], sample['discrepancies'], \\\n",
    "sample['registration_date'].isoformat()"
   ]
  },
  {
   "cell_type": "markdown",
   "metadata": {},
   "source": [
    "So, is this recently registered trial recruiting for participants, or not? Which trial record is correct, and which is incorrect? Who does this impact (patients, carers, clinicians, etc.)?"
   ]
  },
  {
   "cell_type": "markdown",
   "metadata": {},
   "source": [
    "## Power search\n",
    "\n",
    "Most of the above examples have been with a very simple query - 'depression'. However, in the last example, we used `_exists_:discrepancies`. What was that?\n",
    "\n",
    "That was an example of the [powerful query interface](https://www.elastic.co/guide/en/elasticsearch/reference/2.3/query-dsl-query-string-query.html#query-string-syntax) that Elasticsearch exposes so that you can do all kinds of awesome.\n",
    "\n",
    "Here are some examples - we encourage you to try more!"
   ]
  },
  {
   "cell_type": "code",
   "execution_count": 58,
   "metadata": {
    "collapsed": false
   },
   "outputs": [
    {
     "data": {
      "text/plain": [
       "178"
      ]
     },
     "execution_count": 58,
     "metadata": {},
     "output_type": "execute_result"
    }
   ],
   "source": [
    "# this and that\n",
    "result = client.trials.searchTrials(q='suicide AND depression', per_page=10).result()\n",
    "\n",
    "result['total_count']"
   ]
  },
  {
   "cell_type": "code",
   "execution_count": 59,
   "metadata": {
    "collapsed": false
   },
   "outputs": [
    {
     "data": {
      "text/plain": [
       "5932"
      ]
     },
     "execution_count": 59,
     "metadata": {},
     "output_type": "execute_result"
    }
   ],
   "source": [
    "# wildcard matches\n",
    "result = client.trials.searchTrials(q='head*', per_page=10).result()\n",
    "\n",
    "result['total_count']"
   ]
  },
  {
   "cell_type": "code",
   "execution_count": 60,
   "metadata": {
    "collapsed": false
   },
   "outputs": [
    {
     "data": {
      "text/plain": [
       "1634"
      ]
     },
     "execution_count": 60,
     "metadata": {},
     "output_type": "execute_result"
    }
   ],
   "source": [
    "# this or that\n",
    "result = client.trials.searchTrials(q='headache OR migraine', per_page=10).result()\n",
    "\n",
    "result['total_count']"
   ]
  },
  {
   "cell_type": "code",
   "execution_count": 61,
   "metadata": {
    "collapsed": false
   },
   "outputs": [
    {
     "data": {
      "text/plain": [
       "12950"
      ]
     },
     "execution_count": 61,
     "metadata": {},
     "output_type": "execute_result"
    }
   ],
   "source": [
    "# fuzzy matching\n",
    "result = client.trials.searchTrials(q='brain~', per_page=10).result()\n",
    "\n",
    "result['total_count']"
   ]
  },
  {
   "cell_type": "code",
   "execution_count": 63,
   "metadata": {
    "collapsed": false
   },
   "outputs": [
    {
     "data": {
      "text/plain": [
       "27891"
      ]
     },
     "execution_count": 63,
     "metadata": {},
     "output_type": "execute_result"
    }
   ],
   "source": [
    "# date ranges\n",
    "result = client.trials.searchTrials(q='registration_date:[2014-01-01 TO 2014-12-31]', per_page=10).result()\n",
    "\n",
    "result['total_count']"
   ]
  },
  {
   "cell_type": "code",
   "execution_count": 65,
   "metadata": {
    "collapsed": false
   },
   "outputs": [
    {
     "data": {
      "text/plain": [
       "647"
      ]
     },
     "execution_count": 65,
     "metadata": {},
     "output_type": "execute_result"
    }
   ],
   "source": [
    "# grouping clauses\n",
    "result = client.trials.searchTrials(q='(male OR female) AND sex', per_page=10).result()\n",
    "\n",
    "result['total_count']"
   ]
  },
  {
   "cell_type": "markdown",
   "metadata": {},
   "source": [
    "Honestly, the examples above barely scratch the surface. See the [full reference here](https://www.elastic.co/guide/en/elasticsearch/reference/2.3/query-dsl-query-string-query.html#query-string-syntax)."
   ]
  },
  {
   "cell_type": "markdown",
   "metadata": {
    "collapsed": true
   },
   "source": [
    "## Closing\n",
    "\n",
    "This primer on the OpenTrials API is to get you started quickly. The focus has been on basic inspection of the data, a high-level exploration of the endpoints, and a brief glance into the search capabilities available. \n",
    "\n",
    "From here, it is up to you. Whether you want to analyse the data, do some visualisations, write a custom app, or even hack on the core OpenTrials platform, we can't wait to see what you are working on! [Come tell us here](https://gitter.im/opentrials/chat)."
   ]
  }
 ],
 "metadata": {
  "kernelspec": {
   "display_name": "Python 3",
   "language": "python",
   "name": "python3"
  },
  "language_info": {
   "codemirror_mode": {
    "name": "ipython",
    "version": 3
   },
   "file_extension": ".py",
   "mimetype": "text/x-python",
   "name": "python",
   "nbconvert_exporter": "python",
   "pygments_lexer": "ipython3",
   "version": "3.5.2"
  }
 },
 "nbformat": 4,
 "nbformat_minor": 1
}
