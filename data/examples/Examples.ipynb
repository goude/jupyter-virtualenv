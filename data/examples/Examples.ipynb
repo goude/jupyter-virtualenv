{
 "cells": [
  {
   "cell_type": "markdown",
   "metadata": {},
   "source": [
    "## goude/jupyter-virtualenv examples\n",
    "See https://nbviewer.jupyter.org/github/ipython/ipython/blob/2.x/examples/Notebook/Index.ipynb\n",
    "\n",
    "## how to run this notebook\n",
    "It's dead simple. First, [install docker](https://www.docker.com/products/docker). Next, type the command below in a terminal and press `enter`.\n",
    "\n",
    "```bash\n",
    "docker run goude/jupyter-virtualenv start-jupyter.sh\n",
    "```\n",
    "\n",
    "Finally, point your browser to http://localhost:8888."
   ]
  },
  {
   "cell_type": "markdown",
   "metadata": {},
   "source": [
    "## setup"
   ]
  },
  {
   "cell_type": "code",
   "execution_count": null,
   "metadata": {
    "collapsed": true
   },
   "outputs": [],
   "source": [
    "import pandas as pd\n",
    "import numpy as np\n",
    "from matplotlib import pyplot as plt\n",
    "import os"
   ]
  },
  {
   "cell_type": "markdown",
   "metadata": {},
   "source": [
    "## pyfiglet"
   ]
  },
  {
   "cell_type": "code",
   "execution_count": null,
   "metadata": {},
   "outputs": [],
   "source": [
    "import pyfiglet\n",
    "f = pyfiglet.Figlet()\n",
    "print(f.renderText('Hello, World!'))"
   ]
  },
  {
   "cell_type": "markdown",
   "metadata": {},
   "source": [
    "## installed packages in a word cloud\n",
    "https://blog.dominodatalab.com/lesser-known-ways-of-using-notebooks/"
   ]
  },
  {
   "cell_type": "code",
   "execution_count": null,
   "metadata": {},
   "outputs": [],
   "source": [
    "from wordcloud import WordCloud, STOPWORDS\n",
    "\n",
    "wordlist = !pip freeze\n",
    "wordcloud = WordCloud(stopwords=STOPWORDS, background_color='white').generate(\" \".join(wordlist))\n",
    "plt.figure(figsize=(15,10))\n",
    "plt.figure()\n",
    "plt.imshow(wordcloud)\n",
    "plt.axis('off')\n",
    "plt.show()"
   ]
  },
  {
   "cell_type": "markdown",
   "metadata": {},
   "source": [
    "## math\n",
    "https://nbviewer.jupyter.org/github/ipython/ipython/blob/2.x/examples/Notebook/Display%20System.ipynb#LaTeX"
   ]
  },
  {
   "cell_type": "code",
   "execution_count": null,
   "metadata": {},
   "outputs": [],
   "source": [
    "from IPython.display import Math\n",
    "Math(r'F(k) = \\int_{-\\infty}^{\\infty} f(x) e^{2\\pi i k} dx')"
   ]
  },
  {
   "cell_type": "code",
   "execution_count": null,
   "metadata": {},
   "outputs": [],
   "source": [
    "%%latex\n",
    "\\begin{align}\n",
    "\\nabla \\times \\vec{\\mathbf{B}} -\\, \\frac1c\\, \\frac{\\partial\\vec{\\mathbf{E}}}{\\partial t} & = \\frac{4\\pi}{c}\\vec{\\mathbf{j}} \\\\\n",
    "\\nabla \\cdot \\vec{\\mathbf{E}} & = 4 \\pi \\rho \\\\\n",
    "\\nabla \\times \\vec{\\mathbf{E}}\\, +\\, \\frac1c\\, \\frac{\\partial\\vec{\\mathbf{B}}}{\\partial t} & = \\vec{\\mathbf{0}} \\\\\n",
    "\\nabla \\cdot \\vec{\\mathbf{B}} & = 0\n",
    "\\end{align}"
   ]
  },
  {
   "cell_type": "markdown",
   "metadata": {},
   "source": [
    "## venn diagram\n",
    "http://matthiaseisen.com/pp/patterns/p0144/"
   ]
  },
  {
   "cell_type": "code",
   "execution_count": null,
   "metadata": {},
   "outputs": [],
   "source": [
    "#from matplotlib import pyplot as plt\n",
    "from matplotlib_venn import venn2, venn2_circles\n",
    "\n",
    "# Subset sizes\n",
    "s = (\n",
    "    2,  # Ab\n",
    "    3,  # aB\n",
    "    1,  # AB\n",
    ")\n",
    "\n",
    "v = venn2(subsets=s, set_labels=('A', 'B'))\n",
    "\n",
    "# Subset labels\n",
    "v.get_label_by_id('10').set_text('A but not B')\n",
    "v.get_label_by_id('01').set_text('B but not A')\n",
    "v.get_label_by_id('11').set_text('A and B')\n",
    "\n",
    "# Subset colors\n",
    "#v.get_patch_by_id('10').set_color('c')\n",
    "#v.get_patch_by_id('01').set_color('#993333')\n",
    "#v.get_patch_by_id('11').set_color('blue')\n",
    "\n",
    "# Subset alphas\n",
    "#v.get_patch_by_id('10').set_alpha(0.4)\n",
    "#v.get_patch_by_id('01').set_alpha(1.0)\n",
    "#v.get_patch_by_id('11').set_alpha(0.7)\n",
    "\n",
    "# Border styles\n",
    "c = venn2_circles(subsets=s, linestyle='solid')\n",
    "c[0].set_ls('dashed')  # Line style\n",
    "c[0].set_lw(2.0)       # Line width\n",
    "\n",
    "plt.show()"
   ]
  },
  {
   "cell_type": "markdown",
   "metadata": {},
   "source": [
    "## iframe\n",
    "https://nbviewer.jupyter.org/github/ipython/ipython/blob/2.x/examples/Notebook/Display%20System.ipynb"
   ]
  },
  {
   "cell_type": "code",
   "execution_count": null,
   "metadata": {},
   "outputs": [],
   "source": [
    "from IPython.display import IFrame\n",
    "IFrame('http://m.wikipedia.org/?useformat=mobile', width='100%', height=350)"
   ]
  },
  {
   "cell_type": "markdown",
   "metadata": {},
   "source": [
    "## audio\n",
    "https://nbviewer.jupyter.org/github/ipython/ipython/blob/2.x/examples/Notebook/Display%20System.ipynb"
   ]
  },
  {
   "cell_type": "code",
   "execution_count": null,
   "metadata": {},
   "outputs": [],
   "source": [
    "from IPython.display import Audio\n",
    "max_time = 3\n",
    "f1 = 220.0\n",
    "f2 = 224.0\n",
    "rate = 8000.0\n",
    "L = 3\n",
    "times = np.linspace(0,L,rate*L)\n",
    "signal = np.sin(2*np.pi*f1*times) + np.sin(2*np.pi*f2*times)\n",
    "\n",
    "Audio(data=signal, rate=rate)"
   ]
  },
  {
   "cell_type": "markdown",
   "metadata": {},
   "source": [
    "## folium\n",
    "https://pypi.python.org/pypi/folium"
   ]
  },
  {
   "cell_type": "code",
   "execution_count": null,
   "metadata": {},
   "outputs": [],
   "source": [
    "import folium\n",
    "folium.Map()\n"
   ]
  },
  {
   "cell_type": "markdown",
   "metadata": {},
   "source": [
    "## vincent\n",
    "https://vincent.readthedocs.io/en/latest/quickstart.html"
   ]
  },
  {
   "cell_type": "code",
   "execution_count": null,
   "metadata": {},
   "outputs": [],
   "source": [
    "import vincent\n",
    "vincent.core.initialize_notebook()\n",
    "\n",
    "from pandas_datareader import data as web\n",
    "all_data = {}\n",
    "for ticker in ['AAPL', 'GOOG', 'IBM', 'YHOO', 'MSFT']:\n",
    "    all_data[ticker] = web.get_data_yahoo(ticker, '1/1/2010', '1/1/2013')\n",
    "price = pd.DataFrame({tic: data['Adj Close']\n",
    "                      for tic, data in all_data.items()})\n",
    "\n",
    "line = vincent.Line(price[['GOOG', 'AAPL']])\n",
    "line.axis_titles(x='Date', y='Price')\n",
    "line.legend(title='GOOG vs AAPL')\n",
    "line.display()"
   ]
  }
 ],
 "metadata": {
  "kernelspec": {
   "display_name": "Python 3",
   "language": "python",
   "name": "python3"
  },
  "language_info": {
   "codemirror_mode": {
    "name": "ipython",
    "version": 3
   },
   "file_extension": ".py",
   "mimetype": "text/x-python",
   "name": "python",
   "nbconvert_exporter": "python",
   "pygments_lexer": "ipython3",
   "version": "3.6.1"
  }
 },
 "nbformat": 4,
 "nbformat_minor": 2
}
